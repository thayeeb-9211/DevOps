{
 "cells": [
  {
   "cell_type": "markdown",
   "id": "ff47c79a-7fb8-49ac-9dfe-08bfabe29009",
   "metadata": {},
   "source": [
    "**You are assigned to work on a new feature for your project, and you need to use Git to manage your changes.**\n",
    "\n",
    "Complete the following tasks using the appropriate Git commands:\n",
    "\n",
    "~~Todo 1~~\n",
    "Configure your Git with your name and email. ✍️\n",
    "\n",
    "~~Todo 2~~\n",
    "What commands would you use to set your username and email globally?\n",
    "Clone the project repository from GitHub. 🔄\n",
    "\n",
    "~~Todo 3~~\n",
    "What command would you use to clone the repository from the following URL: https://github.com/example/repo.git?\n",
    "Create a new feature branch. 🌿\n",
    "\n",
    "~~Todo 4~~\n",
    "What command would you use to create and switch to a branch called new-feature?\n",
    "Add a new file called feature.py to your branch. 📂\n",
    "\n",
    "~~Todo 5~~\n",
    "What command would you use to stage this new file for commit?\n",
    "Commit your changes with a message. 💬\n",
    "\n",
    "~~Todo 6~~\n",
    "What command would you use to commit your staged changes with the message \"Add new feature implementation\"?\n",
    "Push your changes to the remote repository. 🚀\n",
    "\n",
    "~~Todo 7~~\n",
    "What command would you use to push your changes in the new-feature branch to the remote repository?\n",
    "Pull the latest changes from the main branch. ⬇️\n",
    "\n",
    "~~Todo 8~~\n",
    "What command would you use to pull the latest changes from the main branch of the remote repository?\n",
    "Remove the feature.py file from your branch. ❌\n",
    "\n",
    "~~Todo 9~~\n",
    "What command would you use to remove feature.py from your repository?\n",
    "Commit the removal of the file and push the changes. 📤\n",
    "\n",
    "~~Todo 10~~\n",
    "What commands would you use to commit the removal and push the changes to the remote repository?"
   ]
  },
  {
   "cell_type": "code",
   "execution_count": null,
   "id": "f9db0d7c-7127-4ecb-8103-e5d16cf00530",
   "metadata": {},
   "outputs": [],
   "source": []
  },
  {
   "cell_type": "markdown",
   "id": "6ca09b42-8dbc-4ef3-8041-e09300ec2ef8",
   "metadata": {},
   "source": []
  }
 ],
 "metadata": {
  "kernelspec": {
   "display_name": "Python 3 (ipykernel)",
   "language": "python",
   "name": "python3"
  },
  "language_info": {
   "codemirror_mode": {
    "name": "ipython",
    "version": 3
   },
   "file_extension": ".py",
   "mimetype": "text/x-python",
   "name": "python",
   "nbconvert_exporter": "python",
   "pygments_lexer": "ipython3",
   "version": "3.12.0"
  }
 },
 "nbformat": 4,
 "nbformat_minor": 5
}
